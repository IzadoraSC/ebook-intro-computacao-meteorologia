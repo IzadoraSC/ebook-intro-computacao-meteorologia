{
  "nbformat": 4,
  "nbformat_minor": 0,
  "metadata": {
    "colab": {
      "provenance": []
    },
    "kernelspec": {
      "name": "python3",
      "display_name": "Python 3"
    },
    "language_info": {
      "name": "python"
    }
  },
  "cells": [
    {
      "cell_type": "markdown",
      "source": [
        "## Plotando dados de arquivos NetCDF em Python\n",
        "- Fonte: Robson Passos, para acessar arquivo original [clique aqui](https://gist.github.com/Robson-Passos/7696f490fa14a7bedba118dddd10a628)\n",
        "- Dado utilizado: [ERA5 hourly data on pressure levels from 1940 to present](https://cds.climate.copernicus.eu/datasets/reanalysis-era5-pressure-levels?tab=overview)\n",
        "- As variáveis dos dados ERA5 de reanalize foram: componente zonal do vento (leste-oeste); componente meridional do vento (norte-sul); e temperatura; níveis de pressão (250 hPa, 500 hPa, 850 hPa e 1000 hPa); dias 29, 30 e 31 do mês de dezembro do ano de 2019; horários: 00:00, 06:00, 12:00 e 18:00.\n",
        "- Link para baixar o dado utilizado: [Acesse aqui](https://drive.google.com/drive/folders/1jlDHxLQoYFTxwWb4kYCIFmRMTn8xR_jl?usp=sharing)"
      ],
      "metadata": {
        "id": "PxXInpcLGI1R"
      }
    },
    {
      "cell_type": "markdown",
      "source": [
        "### Instalando bibliotecas/pacotes"
      ],
      "metadata": {
        "id": "nBt2ylwRpWlT"
      }
    },
    {
      "cell_type": "code",
      "source": [
        "!pip install cartopy -q"
      ],
      "metadata": {
        "id": "b0495UbMpeyL"
      },
      "execution_count": null,
      "outputs": []
    },
    {
      "cell_type": "markdown",
      "source": [
        "### Importando bibliotecas"
      ],
      "metadata": {
        "id": "YGTlniu3I528"
      }
    },
    {
      "cell_type": "code",
      "source": [
        "#Importando bibliotecas/pacotes\n",
        "import xarray as xr\n",
        "import matplotlib.pyplot as plt\n",
        "import numpy as np\n",
        "\n",
        "import cartopy.feature as cfeature\n",
        "import cartopy.crs as ccrs\n",
        "from cartopy.mpl.gridliner import LATITUDE_FORMATTER, LONGITUDE_FORMATTER"
      ],
      "metadata": {
        "id": "WcebpoIHB3qB"
      },
      "execution_count": null,
      "outputs": []
    },
    {
      "cell_type": "markdown",
      "source": [
        "###Abrindo o arquivo netCDF"
      ],
      "metadata": {
        "id": "n5FABj9Gbk2y"
      }
    },
    {
      "cell_type": "code",
      "source": [
        "#Abrindo arquivo NetCDF\n",
        "ds = xr.open_dataset('/content/drive/MyDrive/00_Disc_Meteo_Pratica_Python/uvt_2019.nc')\n",
        "ds"
      ],
      "metadata": {
        "id": "zJExn1WDI4VX"
      },
      "execution_count": null,
      "outputs": []
    },
    {
      "cell_type": "markdown",
      "source": [
        "### Extraindo dados para a área da América do Sul"
      ],
      "metadata": {
        "id": "wlNqClOLgeOl"
      }
    },
    {
      "cell_type": "code",
      "source": [
        "ds_subset = ds.sel(longitude=slice(-90, -20), latitude=slice(10, -60))\n",
        "ds_subset"
      ],
      "metadata": {
        "id": "is-u_SVLgllD"
      },
      "execution_count": null,
      "outputs": []
    },
    {
      "cell_type": "code",
      "source": [
        "#Salvando o dataset como um novo arquivo NetCDF\n",
        "ds_subset.to_netcdf('/content/drive/MyDrive/00_Disc_Meteo_Pratica_Python/ds_AS.nc')"
      ],
      "metadata": {
        "id": "4GmzVT_ugsrx"
      },
      "execution_count": null,
      "outputs": []
    },
    {
      "cell_type": "markdown",
      "source": [
        "###Extraindo as variáveis"
      ],
      "metadata": {
        "id": "MRpwo8v9g9G1"
      }
    },
    {
      "cell_type": "code",
      "source": [
        "u = ds_subset['u']\n",
        "v = ds_subset['v']\n",
        "t = ds_subset['t'] - 273.15 #convertendo de Kelvin para Celsus\n",
        "\n",
        "wspd = (u**2 + v**2)**(0.5) #Calculando a velocidade do vento"
      ],
      "metadata": {
        "id": "gMcPqZ2Rg7Sf"
      },
      "execution_count": null,
      "outputs": []
    },
    {
      "cell_type": "code",
      "source": [
        "u"
      ],
      "metadata": {
        "id": "NbnyDQymhg29"
      },
      "execution_count": null,
      "outputs": []
    },
    {
      "cell_type": "markdown",
      "source": [
        "###Indexando e selecionando dados"
      ],
      "metadata": {
        "id": "ejLqjN0MhN27"
      }
    },
    {
      "cell_type": "code",
      "source": [
        "t.valid_time"
      ],
      "metadata": {
        "id": "YBADCIvEhrvg"
      },
      "execution_count": null,
      "outputs": []
    },
    {
      "cell_type": "code",
      "source": [
        "#Selecionando pelo índice\n",
        "t.isel(valid_time=slice(0, 5))"
      ],
      "metadata": {
        "id": "k2J4ERUfhK1L"
      },
      "execution_count": null,
      "outputs": []
    },
    {
      "cell_type": "code",
      "source": [
        "#Selecionando pelos labels\n",
        "t.sel(valid_time=slice('2019-12-29T00:00:00', '2019-12-30T00:00:00'))"
      ],
      "metadata": {
        "id": "NyJWNWcFiLDh"
      },
      "execution_count": null,
      "outputs": []
    },
    {
      "cell_type": "markdown",
      "source": [
        "###Extrair dados de um ponto de grade"
      ],
      "metadata": {
        "id": "5Y89KE_niazi"
      }
    },
    {
      "cell_type": "code",
      "source": [
        "t.pressure_level"
      ],
      "metadata": {
        "id": "ampEsuouid2U"
      },
      "execution_count": null,
      "outputs": []
    },
    {
      "cell_type": "code",
      "source": [
        "t.sel(longitude=-45.2, latitude=-22.3, method='nearest').isel(pressure_level=1).plot()"
      ],
      "metadata": {
        "id": "kbOs61wFijB0"
      },
      "execution_count": null,
      "outputs": []
    },
    {
      "cell_type": "markdown",
      "source": [
        "###Extraindo um perfil vertical"
      ],
      "metadata": {
        "id": "s_x2WN0ZjwVg"
      }
    },
    {
      "cell_type": "code",
      "source": [
        "wspd.isel(valid_time=0).sel(longitude=-45.2, latitude=-22.3, method='nearest').plot(y='pressure_level',\n",
        "                                                                              yincrease=False)"
      ],
      "metadata": {
        "id": "Boz8zWyfjzV2"
      },
      "execution_count": null,
      "outputs": []
    },
    {
      "cell_type": "markdown",
      "source": [
        "###Gerando mapa"
      ],
      "metadata": {
        "id": "KWgdytn9kVdm"
      }
    },
    {
      "cell_type": "code",
      "source": [
        "t.pressure_level"
      ],
      "metadata": {
        "id": "M9BS1C5nmRcS"
      },
      "execution_count": null,
      "outputs": []
    },
    {
      "cell_type": "code",
      "source": [
        "#Gerando um mapa da temperatura para o tempo '2019-12-31T18:00:00' e o nível de 1000 hPa\n",
        "# t.sel(valid_time='2019-12-31T18:00:00').isel(pressure_level=3).plot(cmap='plasma')\n",
        "t.sel(valid_time='2019-12-31T18:00:00').isel(pressure_level=0).plot(cmap='viridis')"
      ],
      "metadata": {
        "id": "lKLE-M0rkXj6"
      },
      "execution_count": null,
      "outputs": []
    },
    {
      "cell_type": "code",
      "source": [
        "#Gerando um mapa com a temperatura média\n",
        "t.sel(pressure_level=1000).mean(dim='valid_time').plot()"
      ],
      "metadata": {
        "id": "8dKCM2RLkvTn"
      },
      "execution_count": null,
      "outputs": []
    },
    {
      "cell_type": "markdown",
      "source": [
        "###Gerando um mapa global com os dados de temperatura"
      ],
      "metadata": {
        "id": "sWrab9ESqvDM"
      }
    },
    {
      "cell_type": "code",
      "source": [
        "u = ds['u']\n",
        "v = ds['v']\n",
        "t = ds['t'] - 273.15 #convertendo de Kelvin para Celsus\n",
        "\n",
        "wspd = (u**2 + v**2)**(0.5) #Calculando a velocidade do vento"
      ],
      "metadata": {
        "id": "vj7AX8d-q0fx"
      },
      "execution_count": null,
      "outputs": []
    },
    {
      "cell_type": "code",
      "source": [
        "#Criando um objeto de figura para receber o mapa\n",
        "fig = plt.figure(figsize=(10, 8))\n",
        "\n",
        "#Criando um eixo com uma determinada projeção\n",
        "ax = fig.add_subplot(111, projection=ccrs.PlateCarree()) #pode ver outras projeções na documentação do pacote\n",
        "\n",
        "#Criando matrizes de longitude e latitude\n",
        "lon, lat = np.meshgrid(t.longitude, t.latitude)\n",
        "\n",
        "#Plotando a temperatura do ar para o globo todo\n",
        "im = ax.contourf(lon, lat, t.isel(valid_time=0, pressure_level=0),\n",
        "                 levels=np.arange(-45, 46, 2), cmap='jet',\n",
        "                 transform=ccrs.PlateCarree())\n",
        "\n",
        "#Inserindo uma colorbar\n",
        "cbar = plt.colorbar(im, ax=ax, pad=0.06, fraction=0.023)\n",
        "cbar.set_label(label='Temperatura (°C)', size=20)\n",
        "cbar.ax.tick_params(labelsize=12)\n",
        "\n",
        "#Adicionando o contorno dos continentes\n",
        "ax.add_feature(cfeature.COASTLINE)\n",
        "\n",
        "#Adicionando os limites dos países\n",
        "ax.add_feature(cfeature.BORDERS)\n",
        "\n",
        "#Adicionando os limites estaduais\n",
        "# Updated: Using 10m scale instead of 50m\n",
        "states = cfeature.NaturalEarthFeature(category='cultural',\n",
        "                                      name='admin_1_states_provinces_lines',\n",
        "                                      scale='10m',\n",
        "                                      facecolor='none')\n",
        "ax.add_feature(states, edgecolor='k', linestyle='--')\n",
        "\n",
        "\n",
        "#Adicionando o título da figura\n",
        "ax.set_title('Temperatura do ar (°C) 2019-12-29 00Z', fontsize=20)\n",
        "\n",
        "#Adicionando as linhas de grade\n",
        "g1 = ax.gridlines(crs=ccrs.PlateCarree(), linestyle='--', color='gray', draw_labels=True)\n",
        "\n",
        "#Removendo os labels do topo e da direita\n",
        "g1.top_labels = False\n",
        "g1.right_labels = False\n",
        "\n",
        "#Formatando os labels como latitude e longitude\n",
        "g1.yformatter = LATITUDE_FORMATTER\n",
        "g1.xformatter = LONGITUDE_FORMATTER\n",
        "\n",
        "g1.xlabel_style = {'size': 10}\n",
        "g1.ylabel_style = {'size': 10}\n",
        "\n",
        "#Salvando o mapa como uma figura\n",
        "plt.savefig('Mapa_temp_global.png', dpi=300, bbox_inches='tight')\n",
        "\n",
        "# plt.savefig('/content/drive/MyDrive/00_Disc_Meteo_Pratica_Python/Mapa_temp_global_v2.png', dpi=300, bbox_inches='tight')"
      ],
      "metadata": {
        "id": "OZ-xRyIOrWnj"
      },
      "execution_count": null,
      "outputs": []
    },
    {
      "cell_type": "markdown",
      "source": [
        "###Gerando um mapa da AS com as linhas de corrente"
      ],
      "metadata": {
        "id": "Hku3J6bUx0NO"
      }
    },
    {
      "cell_type": "code",
      "source": [
        "#Extraindo um subset da América do Sul\n",
        "u_as = u.sel(longitude=slice(-90, -20), latitude=slice(10, -60))\n",
        "v_as = v.sel(longitude=slice(-90, -20), latitude=slice(10, -60))\n",
        "wspd_as = wspd.sel(longitude=slice(-90, -20), latitude=slice(10, -60))"
      ],
      "metadata": {
        "id": "fFgvPKF4xuxC"
      },
      "execution_count": null,
      "outputs": []
    },
    {
      "cell_type": "code",
      "source": [
        "#Criando um objeto de figura para receber o mapa\n",
        "fig = plt.figure(figsize=(8, 6))\n",
        "\n",
        "#Criando um eixo com uma determinada projeção\n",
        "ax = fig.add_subplot(111, projection=ccrs.PlateCarree())\n",
        "\n",
        "#Definindo a extensão do mapa\n",
        "ax.set_extent([-90, -20, 10, -60])\n",
        "\n",
        "#Criando matrizes de longitude e latitude\n",
        "lon, lat = np.meshgrid(u_as.longitude, u_as.latitude)\n",
        "\n",
        "#Plotando as linhas de corrente e a intensidade do vento\n",
        "strm = ax.streamplot(lon, lat, u_as.isel(valid_time=0, pressure_level=0).values, v_as.isel(valid_time=0, pressure_level=3).values,\n",
        "                     color=wspd_as.isel(valid_time=0, pressure_level=0).values, cmap='jet',\n",
        "                     transform=ccrs.PlateCarree())\n",
        "\n",
        "#Inserindo uma colorbar\n",
        "cbar = fig.colorbar(strm.lines)\n",
        "cbar.set_label(label='Vel. do vento (ms$^{-1}$)', size=20, weight='normal')\n",
        "cbar.ax.tick_params(labelsize=12)\n",
        "\n",
        "#Adicionando o contorno dos continentes\n",
        "ax.add_feature(cfeature.COASTLINE)\n",
        "\n",
        "#Adicionando os limites dos países\n",
        "ax.add_feature(cfeature.BORDERS)\n",
        "\n",
        "#Adicionando os limites estaduais\n",
        "states = cfeature.NaturalEarthFeature(category='cultural',\n",
        "                                      name='admin_1_states_provinces_lines', # Changed name to 'admin_1_states_provinces_lines'\n",
        "                                      scale='10m',\n",
        "                                      facecolor='none')\n",
        "ax.add_feature(states, edgecolor='k', linestyle='--')\n",
        "\n",
        "#Adicionando o título da figura\n",
        "ax.set_title('Linhas de corrente (°C) - 2019-12-29 00Z', fontsize=14, y=1.02)\n",
        "\n",
        "#Adicionando as linhas de grade\n",
        "g1 = ax.gridlines(crs=ccrs.PlateCarree(), linestyle='--', color='gray', draw_labels=True)\n",
        "\n",
        "#Removendo os labels do topo e da direita\n",
        "g1.top_labels = False\n",
        "g1.right_labels = False\n",
        "\n",
        "#Formatando os labels como latitude e longitude\n",
        "g1.yformatter = LATITUDE_FORMATTER\n",
        "g1.xformatter = LONGITUDE_FORMATTER\n",
        "\n",
        "#Mofificando o tamanho da fonte dos labels\n",
        "g1.xlabel_style = {'size': 14}\n",
        "g1.ylabel_style = {'size': 14}\n",
        "\n",
        "#Salvando o mapa como uma figura\n",
        "plt.savefig('Mapa_streamlines_AS.png', dpi=300, bbox_inches='tight')\n",
        "plt.savefig('/content/drive/MyDrive/00_Disc_Meteo_Pratica_Python/Mapa_streamlines_AS.png', dpi=300, bbox_inches='tight')\n",
        "#"
      ],
      "metadata": {
        "id": "eDjJlTnTx7Ts"
      },
      "execution_count": null,
      "outputs": []
    }
  ]
}