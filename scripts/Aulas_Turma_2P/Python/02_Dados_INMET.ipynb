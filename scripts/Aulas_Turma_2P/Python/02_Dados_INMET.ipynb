{
  "nbformat": 4,
  "nbformat_minor": 0,
  "metadata": {
    "colab": {
      "provenance": []
    },
    "kernelspec": {
      "name": "python3",
      "display_name": "Python 3"
    },
    "language_info": {
      "name": "python"
    }
  },
  "cells": [
    {
      "cell_type": "markdown",
      "source": [
        "#Introdução à Computação Aplicada às Ciências Atmosfericas II"
      ],
      "metadata": {
        "id": "mu0ZryDDIdjU"
      }
    },
    {
      "cell_type": "markdown",
      "source": [
        "As condições climatológicas influenciam desde a safra de grãos até a decisão de um vendedor ambulante levar seu carrinho para a praia ou não, sendo importante e influente na economia do país. Portanto aprender a coletar e elaborar análises de dados sobre o clima usando o Python (ou outra linguagem de programação) é fundamental para o profissional meteorologista."
      ],
      "metadata": {
        "id": "DMTA9EpFCGvG"
      }
    },
    {
      "cell_type": "markdown",
      "source": [
        "Condições como a temperatura, umidade, radiação e pressão atmosgérica podem influenciar diversos aspectos do nosso cotidiano, portanto, o monitoramento do clima pode ajudar a tomar melhores decisões."
      ],
      "metadata": {
        "id": "Yq7Pxj-qCwkc"
      }
    },
    {
      "cell_type": "markdown",
      "source": [
        "##Fontes de dados\n",
        "\n",
        "###INMET\n",
        "\n",
        "No Brasil, uma das principais fontes de dados públicas sobre condições climática é o Instituto Nacional de Meterologia (INMET), que disponibiliza dados históricos com relativa atualização sobre:\n",
        "\n",
        "- Precipitação\n",
        "- Pressão atmosférica\n",
        "- Radiação\n",
        "- Temperatura\n",
        "- Umidade\n",
        "- Vento\n",
        "\n",
        "Os dados são disponibilizados para nível de:\n",
        "- Regiões\n",
        "- Estados\n",
        "- Municípios\n",
        "\n",
        "Em uma granularidade de:\n",
        "- Data\n",
        "- Hora\n",
        "\n",
        "A base de dados do INMET, para estações automáticas, inicia em 2000 e possui dados até o ano corrente (usualmente, atualizado até o mês anterior).\n",
        "\n",
        "Para acessar a base de dados clique aqui: [Base de Dados - INMET](https://portal.inmet.gov.br/dadoshistoricos)"
      ],
      "metadata": {
        "id": "5Wo3axCPDTn3"
      }
    },
    {
      "cell_type": "markdown",
      "source": [
        "##Dados INMET para o ano de 2024 - São Luís (MA).\n"
      ],
      "metadata": {
        "id": "pWKa-aGVIg4I"
      }
    },
    {
      "cell_type": "markdown",
      "source": [
        "####Importando bibliotecas"
      ],
      "metadata": {
        "id": "JRh7d0l55RIJ"
      }
    },
    {
      "cell_type": "code",
      "source": [
        "#Importando biblioteca\n",
        "\n",
        "import pandas as pd\n",
        "import matplotlib.pyplot as plt\n",
        "import seaborn as sns\n",
        "import numpy as np\n",
        "\n",
        "# from inspect import formatannotation\n"
      ],
      "metadata": {
        "id": "QGHTNImlRVuo"
      },
      "execution_count": null,
      "outputs": []
    },
    {
      "cell_type": "code",
      "source": [
        "#Acessando tabela de dados\n",
        "tb = pd.read_csv('/content/INMET_NE_MA_A203_SAO LUIS_01-01-2024_A_31-12-2024.CSV',\n",
        "                 skiprows=8, sep=';', encoding='latin-1')\n",
        "tb"
      ],
      "metadata": {
        "id": "m9M9LqtgRd_n"
      },
      "execution_count": null,
      "outputs": []
    },
    {
      "cell_type": "markdown",
      "source": [
        "##Análise de dados\n",
        "\n",
        "- Número de dias d chuva por mês:"
      ],
      "metadata": {
        "id": "R_8AlGfQS9mc"
      }
    },
    {
      "cell_type": "code",
      "source": [
        "#Verificando nomes das colunas\n",
        "tb.columns"
      ],
      "metadata": {
        "id": "w29j9LchTakg"
      },
      "execution_count": null,
      "outputs": []
    },
    {
      "cell_type": "code",
      "source": [
        "# print(tb[\"UMIDADE RELATIVA DO AR, HORARIA (%)\"].dtypes) #verificar o tipo de dado de uma única coluna\n",
        "print(tb.dtypes) #verificar o tipo de dado de todas as colunas"
      ],
      "metadata": {
        "id": "QYWoHPvcT2Eb"
      },
      "execution_count": null,
      "outputs": []
    },
    {
      "cell_type": "code",
      "source": [
        "#Renomeando coluna\n",
        "tb = tb.rename(columns = {'UMIDADE RELATIVA DO AR, HORARIA (%)': 'Umidade_R_AR'})\n",
        "tb.columns\n",
        "\n",
        "#AGORA MUDE O NOME DA COLUNA 'Hora UTC'\n"
      ],
      "metadata": {
        "id": "fdtaG5XhVTS6"
      },
      "execution_count": null,
      "outputs": []
    },
    {
      "cell_type": "code",
      "source": [
        "tb = tb.rename(columns = {'PRECIPITAÇÃO TOTAL, HORÁRIO (mm)':'Precip_Tot_mm',\n",
        "                          'PRESSAO ATMOSFERICA AO NIVEL DA ESTACAO, HORARIA (mB)':'Pressao_Atm_mB',\n",
        "                          'PRESSÃO ATMOSFERICA MAX.NA HORA ANT. (AUT) (mB)':'Pressao_Atm_Max_mB',\n",
        "                          'PRESSÃO ATMOSFERICA MIN. NA HORA ANT. (AUT) (mB)':'Pressao_Atm_Min_mB',\n",
        "                          'RADIACAO GLOBAL (Kj/m²)':'Radiacao_Kj_m2',\n",
        "                          'TEMPERATURA DO AR - BULBO SECO, HORARIA (°C)':'Temp_Ar_C',\n",
        "                          'TEMPERATURA DO PONTO DE ORVALHO (°C)':'Temp_Pt_Orv_C',\n",
        "                          'UMIDADE REL. MAX. NA HORA ANT. (AUT) (%)': 'Umidade_RMax_AR',\n",
        "                          'UMIDADE REL. MIN. NA HORA ANT. (AUT) (%)': 'Umidade_RMin_AR',\n",
        "                          'TEMPERATURA MÍNIMA NA HORA ANT. (AUT) (°C)':'Temp_Min_C',\n",
        "                          'TEMPERATURA MÁXIMA NA HORA ANT. (AUT) (°C)':'Temp_Max_C',\n",
        "                          'TEMPERATURA ORVALHO MAX. NA HORA ANT. (AUT) (°C)':'Temp_Orv_Max_C',\n",
        "                          'TEMPERATURA ORVALHO MIN. NA HORA ANT. (AUT) (°C)':'Temp_Orv_Min_C',\n",
        "                          'VENTO, DIREÇÃO HORARIA (gr) (° (gr))':'Vento_Dir',\n",
        "                          'VENTO, RAJADA MAXIMA (m/s)':'Vento_m_s',\n",
        "                          'VENTO, VELOCIDADE HORARIA (m/s)':'Vento_Vel_m_s'\n",
        "                          })\n",
        "\n",
        "tb.columns"
      ],
      "metadata": {
        "id": "JYFccbTsV9Re"
      },
      "execution_count": null,
      "outputs": []
    },
    {
      "cell_type": "code",
      "source": [
        "#Deletando coluna\n",
        "tb = tb.drop(columns=['Unnamed: 19'])\n",
        "tb.columns"
      ],
      "metadata": {
        "id": "6xEqxL4MZeco"
      },
      "execution_count": null,
      "outputs": []
    },
    {
      "cell_type": "code",
      "source": [
        "#Criando nova coluna\n",
        "tb['Estado'] = 'MA'\n",
        "tb"
      ],
      "metadata": {
        "id": "6SpqyxYgZ02O"
      },
      "execution_count": null,
      "outputs": []
    },
    {
      "cell_type": "code",
      "source": [
        "#Convertendo coluna data para datetime\n",
        "# tb['Data'] = pd.to_numeric(tb['Data'])\n",
        "tb['Data'] = pd.to_datetime(tb['Data'])\n",
        "tb['Data'].dtypes"
      ],
      "metadata": {
        "id": "-qNctIwNaYTb"
      },
      "execution_count": null,
      "outputs": []
    },
    {
      "cell_type": "code",
      "source": [
        "#Extraindo o mês da data\n",
        "tb['Mes'] = tb['Data'].dt.month\n",
        "tb"
      ],
      "metadata": {
        "id": "yWNmaNRraYNt"
      },
      "execution_count": null,
      "outputs": []
    },
    {
      "cell_type": "code",
      "source": [
        "#Filtrando dados para selecionar somente os dias com chuva\n",
        "dias_com_chuva = tb[tb['Precip_Tot_mm'] > 0]"
      ],
      "metadata": {
        "id": "A400d6Clbskr"
      },
      "execution_count": null,
      "outputs": []
    },
    {
      "cell_type": "code",
      "source": [
        "tb['Precip_Tot_mm'] = pd.to_numeric(tb['Precip_Tot_mm'], errors='coerce')\n",
        "print(tb['Precip_Tot_mm'].dtypes)\n",
        "\n",
        "dias_com_chuva = tb[tb['Precip_Tot_mm'] > 0]"
      ],
      "metadata": {
        "id": "QFRmMFxJdpH6"
      },
      "execution_count": null,
      "outputs": []
    },
    {
      "cell_type": "code",
      "source": [
        "# Contar o número de dias com chuva por mês, considerando apenas uma entrada por dia com chuva\n",
        "dias_chuva_por_mes = dias_com_chuva.groupby('Mes')['Data'].nunique()\n",
        "dias_chuva_por_mes"
      ],
      "metadata": {
        "id": "37RYWQxRerZ4"
      },
      "execution_count": null,
      "outputs": []
    },
    {
      "cell_type": "markdown",
      "source": [
        "####Gráfico de Barras"
      ],
      "metadata": {
        "id": "r88tARYdYhUY"
      }
    },
    {
      "cell_type": "code",
      "source": [
        "#Gerando gráfico\n",
        "plt.figure(figsize=(10, 6))\n",
        "dias_chuva_por_mes.plot(kind='bar', color='blue')\n",
        "plt.show()"
      ],
      "metadata": {
        "id": "Ct6Tb1BqfNM7"
      },
      "execution_count": null,
      "outputs": []
    },
    {
      "cell_type": "code",
      "source": [
        "#Gerando gráfico\n",
        "plt.figure(figsize=(10, 6))\n",
        "dias_chuva_por_mes.plot(kind='bar', color='blue')\n",
        "plt.title('Número de Dias com Chuva por Mês em São Luís (2024)')\n",
        "plt.xlabel('Mês')\n",
        "plt.ylabel('Número de Dias com Chuva')\n",
        "plt.xticks(rotation=0)\n",
        "plt.grid(axis='y', linestyle='--')\n",
        "plt.show()"
      ],
      "metadata": {
        "id": "eCZEXQSgfwEn"
      },
      "execution_count": null,
      "outputs": []
    },
    {
      "cell_type": "code",
      "source": [
        "meses = ['janeiro', 'fevereiro', 'março', 'abril', 'maio', 'junho', 'julho', 'dezembro']\n",
        "\n",
        "media = np.mean(dias_chuva_por_mes)\n",
        "media"
      ],
      "metadata": {
        "id": "UrLc6uul5ciZ"
      },
      "execution_count": null,
      "outputs": []
    },
    {
      "cell_type": "code",
      "source": [
        "#Gerando gráfico\n",
        "\n",
        "fig, ax = plt.subplots(figsize=(10, 6))\n",
        "\n",
        "g_barras = ax.bar(meses, dias_chuva_por_mes, color='skyblue')\n",
        "\n",
        "ax.axhline(media, color='black', linestyle='--')\n",
        "\n",
        "ax.text(6.6, media + 0.1, 'Média de dias de chuva no mês',\n",
        "        ha='center', va='bottom', color='gray', fontsize=11)\n",
        "\n",
        "\n",
        "ax.set_xlabel('Mês', fontsize=12)\n",
        "\n",
        "ax.set_ylabel('Número de Dias com Chuva', fontsize=12, color='black')\n",
        "\n",
        "ax.set_title('Número de Dias com Chuva por Mês em São Luís (2024)', fontsize=12)\n",
        "\n",
        "ax.tick_params(axis='x', rotation=0)\n",
        "\n",
        "plt.figtext(0.5, -0.05, \"Fonte: INMET - Estação A203 São Luís-MA | Elaboração: Profa. Izadora\",\n",
        "            fontsize=10, color = 'gray')\n",
        "\n",
        "plt.tight_layout()\n",
        "plt.show()\n",
        "\n",
        "#Salvando gráfico\n",
        "# plt.savefig('/content/grafico_1_300dpi.png', format='png', dpi=300, bbox_inches='tight')  # Salvar em SVG\n",
        "# plt.savefig('/content/grafico_1_300dpi.svg', format='svg', dpi=300, bbox_inches='tight')  # Salvar em SVG\n",
        "# plt.close()"
      ],
      "metadata": {
        "id": "gCqw_pkrgZ1B"
      },
      "execution_count": null,
      "outputs": []
    },
    {
      "cell_type": "code",
      "source": [
        "#Salvando tabela organizada\n",
        "tb.to_csv('dados_clima_slz_2024.csv', index=False)"
      ],
      "metadata": {
        "id": "aVtMStWQCXS1"
      },
      "execution_count": null,
      "outputs": []
    },
    {
      "cell_type": "markdown",
      "source": [
        "####Gráfico Mapa de Calor (Heatmap)"
      ],
      "metadata": {
        "id": "FvhvpCLFYn3X"
      }
    },
    {
      "cell_type": "code",
      "source": [
        "#Carregando tabela organizada\n",
        "tb2 = pd.read_csv('/content/dados_clima_slz_2024.csv')\n",
        "tb2"
      ],
      "metadata": {
        "id": "ZPqKMpxiS1x8"
      },
      "execution_count": null,
      "outputs": []
    },
    {
      "cell_type": "code",
      "source": [
        "#Extraindo o mês da data\n",
        "\n",
        "tb2['Data'] = pd.to_datetime(tb2['Data'])\n",
        "\n",
        "tb2['Dia'] = tb2['Data'].dt.day\n",
        "tb2['Ano'] = tb2['Data'].dt.year\n",
        "tb2"
      ],
      "metadata": {
        "id": "tMEX8CDADocQ"
      },
      "execution_count": null,
      "outputs": []
    },
    {
      "cell_type": "code",
      "source": [
        "# Pivotar para formar uma matriz: linhas = meses, colunas = dias\n",
        "tb2=tb2.rename(columns={'UMIDADE REL. MAX. NA HORA ANT. (AUT) (%)': 'Umidade_RMax_AR',\n",
        "                          'UMIDADE REL. MIN. NA HORA ANT. (AUT) (%)': 'Umidade_RMin_AR'})\n",
        "\n",
        "tb2.columns"
      ],
      "metadata": {
        "id": "DoJILJyWFaKg"
      },
      "execution_count": null,
      "outputs": []
    },
    {
      "cell_type": "code",
      "source": [
        "# Tipo de dado da coluna 'Temp_Ar_C' deve ser numérico\n",
        "tb2['Temp_Ar_C'] = pd.to_numeric(tb2['Temp_Ar_C'], errors='coerce')\n"
      ],
      "metadata": {
        "id": "gx4iuyBbGkIV"
      },
      "execution_count": null,
      "outputs": []
    },
    {
      "cell_type": "code",
      "source": [
        "# Criar a tabela pivot para o mapa de calor\n",
        "# Agrupar por Mês e Dia, e calcular a média da temperatura para cada dia de cada mês\n",
        "# Isso lida com múltiplas observações no mesmo dia (por exemplo, horárias)\n",
        "tb2_pivot = tb2.groupby(['Mes', 'Dia'])['Temp_Ar_C'].mean().unstack()\n",
        "tb2_pivot"
      ],
      "metadata": {
        "id": "1gY7dJCnG5te"
      },
      "execution_count": null,
      "outputs": []
    },
    {
      "cell_type": "code",
      "source": [
        "# Ordenar os meses corretamente\n",
        "meses_ordem = list(range(1, 13)) # Números de 1 a 12 para os meses\n",
        "dias_ordem = list(range(1, 32)) # Números de 1 a 31 para os dias\n",
        "\n",
        "print(meses_ordem)\n",
        "print(dias_ordem)"
      ],
      "metadata": {
        "id": "3YS9yMLIIp3k"
      },
      "execution_count": null,
      "outputs": []
    },
    {
      "cell_type": "code",
      "source": [
        "# Reindexar o DataFrame pivotado para garantir a ordem correta dos meses e dias\n",
        "tb2_pivot = tb2_pivot.reindex(index=meses_ordem, columns=dias_ordem)\n",
        "tb2_pivot"
      ],
      "metadata": {
        "id": "kZABx7LlIx5T"
      },
      "execution_count": null,
      "outputs": []
    },
    {
      "cell_type": "code",
      "source": [
        "#Gerando mapa\n",
        "# Configurar o tamanho da figura\n",
        "plt.figure(figsize=(15, 8))\n",
        "\n",
        "# Criar o mapa de calor\n",
        "ax = sns.heatmap(tb2_pivot, cmap='coolwarm', annot=False, fmt=\".1f\", linewidths=.5,\n",
        "                 cbar_kws={'label': 'Temperatura (°C)'})\n",
        "\n",
        "\n",
        "# Configurar títulos e rótulos\n",
        "plt.title('Mapa de Calor da Temperatura do Ar (°C) por Mês e Dia (São Luís, 2024)', fontsize=14)\n",
        "plt.xlabel('Dia do Mês', fontsize=12)\n",
        "plt.ylabel('Mês', fontsize=12)\n",
        "\n",
        "nomes_meses = ['Jan', 'Fev', 'Mar', 'Abr', 'Mai', 'Jun',\n",
        "               'Jul', 'Ago', 'Set', 'Out', 'Nov',\n",
        "               'Dez']\n",
        "\n",
        "# Onde 1=Jan, 2=Fev, etc.\n",
        "ax.set_yticks(ticks=np.arange(12) + 0.5)\n",
        "ax.set_yticklabels(labels=nomes_meses, fontsize=10)\n",
        "# ax.invert_yaxis() # Inverte o eixo Y para começar por Janeiro embaixo\n",
        "\n",
        "plt.figtext(0.5, -0.05, \"Fonte: INMET - Estação A203 São Luís-MA | Elaboração: Profa. Izadora\",\n",
        "            fontsize=10, color='gray') #ha='center'\n",
        "\n",
        "# Mostrar o mapa de calor\n",
        "plt.tight_layout()\n",
        "plt.show()\n",
        "\n",
        "#Salvar figura\n",
        "plt.savefig('mapa_calor_temp_slz_2024.png')\n",
        "plt.close()"
      ],
      "metadata": {
        "id": "9J0SYdUJJGDe"
      },
      "execution_count": null,
      "outputs": []
    },
    {
      "cell_type": "markdown",
      "source": [
        "####Outros gráficos"
      ],
      "metadata": {
        "id": "pZOS3VYuc8Wb"
      }
    },
    {
      "cell_type": "code",
      "source": [
        "# Gráfico de Setor (Pizza) - Exemplo com a média da Umidade por Mês\n",
        "# Calcular a média da umidade por mês\n",
        "umidade_media_por_mes = tb2.groupby('Mes')['Umidade_R_AR'].mean()\n",
        "\n",
        "plt.figure(figsize=(8, 8))\n",
        "plt.pie(umidade_media_por_mes, labels=nomes_meses, autopct='%1.1f%%', startangle=140, colors=plt.cm.Paired(range(len(nomes_meses))))\n",
        "plt.title('Distribuição da Umidade Média do Ar por Mês (São Luís, 2024)')\n",
        "plt.show()"
      ],
      "metadata": {
        "id": "IYSreqmoZPRK"
      },
      "execution_count": null,
      "outputs": []
    },
    {
      "cell_type": "code",
      "source": [
        "# Gráfico de Dispersão - Exemplo: Relação entre Temperatura e Umidade\n",
        "plt.figure(figsize=(10, 6))\n",
        "sns.scatterplot(x='Temp_Ar_C', y='Umidade_R_AR', data=tb2, alpha=0.5)\n",
        "plt.title('Relação entre Temperatura e Umidade do Ar (São Luís, 2024)')\n",
        "plt.xlabel('Temperatura do Ar (°C)')\n",
        "plt.ylabel('Umidade Relativa do Ar (%)')\n",
        "plt.grid(True)\n",
        "plt.show()\n"
      ],
      "metadata": {
        "id": "38GmqF-cbErW"
      },
      "execution_count": null,
      "outputs": []
    },
    {
      "cell_type": "code",
      "source": [
        "# Gráfico de Linha - Exemplo: Variação da Temperatura ao longo do tempo\n",
        "# Agrupar por mês e calcular a média da temperatura\n",
        "\n",
        "tb2['Data'] = pd.to_datetime(tb2['Data'])\n",
        "tb2_temp_mensal = tb2.groupby(tb2['Data'].dt.to_period('M'))['Temp_Ar_C'].mean().reset_index()\n",
        "tb2_temp_mensal['Data'] = tb2_temp_mensal['Data'].astype(str)\n",
        "\n",
        "# Gerando gráfico\n",
        "plt.figure(figsize=(15, 6))\n",
        "\n",
        "plt.plot(tb2_temp_mensal['Data'], tb2_temp_mensal['Temp_Ar_C'], linestyle='-')\n",
        "\n",
        "plt.title('Variação Mensal da Temperatura do Ar (São Luís, 2024)')\n",
        "\n",
        "plt.xlabel('Mês')\n",
        "\n",
        "plt.ylabel('Temperatura do Ar (°C)')\n",
        "\n",
        "plt.grid(True)\n",
        "\n",
        "plt.show()"
      ],
      "metadata": {
        "id": "XmV1OJHdbLjd"
      },
      "execution_count": null,
      "outputs": []
    },
    {
      "cell_type": "code",
      "source": [
        "#Gráfico Barras\n",
        "# Calcule a precipitação total mensal\n",
        "precip_total_mensal = tb2.groupby('Mes')['Precip_Tot_mm'].sum()\n",
        "\n",
        "# Para ver os valores de precipitação total mensal\n",
        "# print(\"Precipitação Total Mensal (mm):\")\n",
        "# print(precip_total_mensal)\n",
        "\n",
        "# Gere o gráfico de barras para a precipitação total mensal\n",
        "plt.figure(figsize=(10, 6))\n",
        "precip_total_mensal.plot(kind='bar', color='green')\n",
        "plt.title('Precipitação Total Mensal em São Luís (2024)')\n",
        "plt.xlabel('Mês')\n",
        "plt.ylabel('Precipitação Total (mm)')\n",
        "plt.xticks(ticks=np.arange(12), labels=nomes_meses, rotation=0)\n",
        "plt.grid(axis='y', linestyle='--')\n",
        "plt.show()"
      ],
      "metadata": {
        "id": "yjNnLmqBc5In"
      },
      "execution_count": null,
      "outputs": []
    },
    {
      "cell_type": "code",
      "source": [
        "# Gráfico de Histograma - Exemplo: Distribuição da Temperatura\n",
        "plt.figure(figsize=(10, 6))\n",
        "sns.histplot(tb2['Temp_Ar_C'].dropna(), bins=30, kde=True, color='skyblue')\n",
        "plt.title('Distribuição da Temperatura do Ar (°C) (São Luís, 2024)')\n",
        "plt.xlabel('Temperatura do Ar (°C)')\n",
        "plt.ylabel('Frequência')\n",
        "plt.grid(axis='y', alpha=0.75)\n",
        "plt.show()"
      ],
      "metadata": {
        "id": "yh-3ylq3bZg6"
      },
      "execution_count": null,
      "outputs": []
    },
    {
      "cell_type": "code",
      "source": [
        "# Gráfico de Boxplot - Exemplo: Distribuição da Temperatura por Mês\n",
        "plt.figure(figsize=(12, 8))\n",
        "sns.boxplot(x='Mes', y='Temp_Ar_C', data=tb2, palette='viridis')\n",
        "plt.title('Distribuição da Temperatura do Ar (°C) por Mês (São Luís, 2024)')\n",
        "plt.xlabel('Mês')\n",
        "plt.ylabel('Temperatura do Ar (°C)')\n",
        "plt.xticks(ticks=np.arange(12), labels=nomes_meses)\n",
        "plt.grid(axis='y', alpha=0.75)\n",
        "plt.show()"
      ],
      "metadata": {
        "id": "OOmel6sebfdK"
      },
      "execution_count": null,
      "outputs": []
    },
    {
      "cell_type": "code",
      "source": [
        "# Gráfico de Violino - Exemplo: Distribuição da Umidade por Mês\n",
        "plt.figure(figsize=(12, 8))\n",
        "sns.violinplot(x='Mes', y='Umidade_R_AR', data=tb2, palette='pastel')\n",
        "plt.title('Distribuição da Umidade Relativa do Ar (%) por Mês (São Luís, 2024)')\n",
        "plt.xlabel('Mês')\n",
        "plt.ylabel('Umidade Relativa do Ar (%)')\n",
        "plt.xticks(ticks=np.arange(12), labels=nomes_meses)\n",
        "plt.grid(axis='y', alpha=0.75)\n",
        "plt.show()\n"
      ],
      "metadata": {
        "id": "bqHKZgvtbhPh"
      },
      "execution_count": null,
      "outputs": []
    },
    {
      "cell_type": "code",
      "source": [
        "# Gráfico de Regressão - Relação entre Umidade e Temperatura\n",
        "plt.figure(figsize=(10, 6))\n",
        "sns.regplot(x='Temp_Ar_C', y='Umidade_R_AR', data=tb2, scatter_kws={'alpha':0.5})\n",
        "plt.title('Regressão entre Temperatura e Umidade do Ar (São Luís, 2024)')\n",
        "plt.xlabel('Temperatura do Ar (°C)')\n",
        "plt.ylabel('Umidade Relativa do Ar (%)')\n",
        "plt.grid(True)\n",
        "plt.show()"
      ],
      "metadata": {
        "id": "yFipMIn1bqqb"
      },
      "execution_count": null,
      "outputs": []
    },
    {
      "cell_type": "markdown",
      "source": [
        "##Referências\n",
        "\n",
        "- Matplotlib: https://matplotlib.org\n",
        "- Seaborn: https://seaborn.pydata.org\n",
        "- Numpy: https://numpy.org\n",
        "- Pandas: https://pandas.pydata.org\n",
        "- Geopandas: https://geopandas.org/en/stable/gallery/index.html"
      ],
      "metadata": {
        "id": "CAXH72SxftYH"
      }
    }
  ]
}