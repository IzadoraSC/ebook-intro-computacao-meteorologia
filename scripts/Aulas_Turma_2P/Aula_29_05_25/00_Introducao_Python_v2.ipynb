{
  "nbformat": 4,
  "nbformat_minor": 0,
  "metadata": {
    "colab": {
      "provenance": [],
      "toc_visible": true
    },
    "kernelspec": {
      "name": "python3",
      "display_name": "Python 3"
    },
    "language_info": {
      "name": "python"
    }
  },
  "cells": [
    {
      "cell_type": "markdown",
      "source": [
        "#Introdução à Computação Aplicada às Ciências Atmosfericas II"
      ],
      "metadata": {
        "id": "T9vFBaapNCyk"
      }
    },
    {
      "cell_type": "markdown",
      "source": [
        "###Conhecendo o ambiente colab"
      ],
      "metadata": {
        "id": "Nd3MfKdYIuOQ"
      }
    },
    {
      "cell_type": "code",
      "source": [
        "#Conectando ao driver\n",
        "from google.colab import drive\n",
        "drive.mount('/content/drive')"
      ],
      "metadata": {
        "id": "gNFuTT1jJATp"
      },
      "execution_count": null,
      "outputs": []
    },
    {
      "cell_type": "code",
      "source": [
        "!pip list #comando para ver as bibliotecas e pacotes base"
      ],
      "metadata": {
        "id": "GqaMH_T0JUWR"
      },
      "execution_count": null,
      "outputs": []
    },
    {
      "cell_type": "code",
      "execution_count": null,
      "metadata": {
        "id": "ZONQ3VzF3N1s"
      },
      "outputs": [],
      "source": [
        "#Instalando bibliotecas/pacotes\n",
        "!pip install wget -q"
      ]
    },
    {
      "cell_type": "code",
      "source": [
        "#Importando bibliotecas/pacotes\n",
        "import wget #pacote que acabamos de instalar utilizado para baixar dados a partir de links da web\n",
        "import pandas as pd #pacote já instalado no colab"
      ],
      "metadata": {
        "id": "0FlCWB4r3s6t"
      },
      "execution_count": null,
      "outputs": []
    },
    {
      "cell_type": "markdown",
      "source": [
        "###Tipos de dados e variáveis"
      ],
      "metadata": {
        "id": "_92sRWKbOmN7"
      }
    },
    {
      "cell_type": "code",
      "source": [
        "temp1 = 30  # Tipo inteiro\n",
        "temp2 = 23.3  # Tipo ponto flutuante (decimal)\n",
        "nome = 'Meteorologia'   # Tipo texto (string, caractere)\n",
        "chovendo = False # Tipo booleano\n",
        "\n",
        "print(type(temp1))\n",
        "print(type(temp2))\n",
        "print(type(nome))\n",
        "print(type(chovendo))"
      ],
      "metadata": {
        "id": "O0IgL9BlOwf2"
      },
      "execution_count": null,
      "outputs": []
    },
    {
      "cell_type": "code",
      "source": [
        "#Operações\n",
        "soma = temp1 + temp2\n",
        "print(soma)\n",
        "\n",
        "print(temp1 - temp2)\n",
        "print(temp1 * temp2)\n",
        "print(temp1 / temp2)"
      ],
      "metadata": {
        "id": "bvAwVGt4Pte4"
      },
      "execution_count": null,
      "outputs": []
    },
    {
      "cell_type": "code",
      "source": [
        "type(soma)"
      ],
      "metadata": {
        "id": "mvocL41iP7t4"
      },
      "execution_count": null,
      "outputs": []
    },
    {
      "cell_type": "markdown",
      "source": [
        "### Estruturas de Dados"
      ],
      "metadata": {
        "id": "UlUTR2abXh9U"
      }
    },
    {
      "cell_type": "markdown",
      "source": [
        "####Lista\n",
        "Listas em Python funcionam como vetores/matrizes (arrays), com a diferença de serem dinâmicos\n",
        "com a possibilidade de inserir nela qualquer tipo de dado.\n",
        "- As listas em Python são representadas por [ ].\n",
        "- Dinâmico: Não possui tamanho fixo, ou seja, pode-se criar a lista e adicionar/remover elementos a ela;\n",
        "- Qualquer tipo de dado: Não possuem tipo de dado fixo, ou seja, pode-se incluir qualquer tipo de dado.\n",
        "- Listas são mutáveis: elas podem mudar constantemente."
      ],
      "metadata": {
        "id": "IiuMuUU5a0Ex"
      }
    },
    {
      "cell_type": "code",
      "source": [
        "#Exemplos de listas\n",
        "\n",
        "lista1 = [1, 99, 4, 27, 15] # Lista de inteiros.\n",
        "lista2 = ['M', 'e', 't', 'e', 'o', 'r', 'o', 'l', 'o', 'g', 'i', 'a'] # Lista de strings.\n",
        "lista3 = [] # Lista vazia.\n",
        "lista4 = list(range(11)) # Cria uma lista com 10 elementos (0 a 10) do tipo inteiro.\n",
        "lista5 = list('Meteorologia') # ['M', 'e', 't', 'e', 'o', 'r', 'o', 'l', 'o', 'g', 'i', 'a']\n",
        "\n"
      ],
      "metadata": {
        "id": "DWKIe4TCX0hz"
      },
      "execution_count": null,
      "outputs": []
    },
    {
      "cell_type": "code",
      "source": [
        "# Ordenando uma lista\n",
        "\n",
        "x = [1, 30, 5, 8, 0]\n",
        "x.sort()\n",
        "print(x)"
      ],
      "metadata": {
        "id": "aXnvwWt6YOGW"
      },
      "execution_count": null,
      "outputs": []
    },
    {
      "cell_type": "code",
      "source": [
        "# Contar o número de elementos que se repete na lista\n",
        "\n",
        "x = [1, 30, 5, 8, 0, 30, 5, 5, 0]\n",
        "print(x.count(5))"
      ],
      "metadata": {
        "id": "8cUq8BjjYUlw"
      },
      "execution_count": null,
      "outputs": []
    },
    {
      "cell_type": "code",
      "source": [
        "x.append(100) # Inclui um elemento no fim da lista.\n",
        "print(x)"
      ],
      "metadata": {
        "id": "JGeyRrZIYvSF"
      },
      "execution_count": null,
      "outputs": []
    },
    {
      "cell_type": "code",
      "source": [
        "x.extend([300, 120, -5]) # Inclui mais de um elemento no fim da lista.\n",
        "print(x)"
      ],
      "metadata": {
        "id": "Klkztx8eY1Qw"
      },
      "execution_count": null,
      "outputs": []
    },
    {
      "cell_type": "code",
      "source": [
        "x.insert(4, -999) # Adiciona na posição 4 o valor -999.\n",
        "print(x)"
      ],
      "metadata": {
        "id": "2y8dAerPZCf-"
      },
      "execution_count": null,
      "outputs": []
    },
    {
      "cell_type": "code",
      "source": [
        "# Unir lista\n",
        "x = [1, 30, 5, 8, 0, 30, 5, 5, 0]\n",
        "y = [-999, 7, -10]\n",
        "\n",
        "###"
      ],
      "metadata": {
        "id": "MdVKLun4ZKrj"
      },
      "execution_count": null,
      "outputs": []
    },
    {
      "cell_type": "code",
      "source": [
        "# Remover o último elemento da lista\n",
        "x = [1, 30, 5, 8, 0, 30, 5, 5, 0]\n",
        "\n",
        "x.pop() # Remove o último elemento da lista.\n",
        "print(x)\n"
      ],
      "metadata": {
        "id": "LkAxzmhgZlz7"
      },
      "execution_count": null,
      "outputs": []
    },
    {
      "cell_type": "code",
      "source": [
        "# Remover um elemento da lista pelo seu índice\n",
        "x = [1, 30, 5, 8, 0, 30, 5, 5, 0]\n",
        "# 0 1 2 3 4 5 6 7 8 <= Posições.\n",
        "print(x)\n",
        "x.pop(2) # Remove o elemento que está no índice 2, ou seja, o valor 5.\n",
        "print(x)"
      ],
      "metadata": {
        "id": "rr2_DCWBZr-J"
      },
      "execution_count": null,
      "outputs": []
    },
    {
      "cell_type": "code",
      "source": [
        "# Indexando em uma lista\n",
        "x = [1, 30, 5, 8, 2]\n",
        "print(x[0])\n",
        "print(x[1])\n",
        "print(x[2])\n",
        "print(x[3])\n",
        "print(x[4])"
      ],
      "metadata": {
        "id": "3OQv8ieQaFXk"
      },
      "execution_count": null,
      "outputs": []
    },
    {
      "cell_type": "code",
      "source": [
        "x = [1, 30, 5, 8, 2]\n",
        "# 0 1 2 3 4 <= Posições.\n",
        "print(x[1:]) # [30, 5, 8, 2]\n",
        "print(x[::]) # [1, 30, 5, 8, 2] => Todos os elementos da lista.\n",
        "print(x[:2]) # [1, 30] => Lembrando que o índice 2 não é incluído.\n",
        "print(x[1:3]) # [30, 5] => Lembrando que o índice 3 não é incluído.\n",
        "print(x[1::2]) # [30, 8] => Vai do índice 1 até o final com passo 2.\n",
        "print(x[::2]) # [1, 5, 2] => Vai do índice 0 até o final com passo 2.\n",
        "print(x[::-2]) # [2, 5, 1] => Vai do índice 0 até o final com passo -2."
      ],
      "metadata": {
        "id": "rN6_4qIVaSYx"
      },
      "execution_count": null,
      "outputs": []
    },
    {
      "cell_type": "markdown",
      "source": [
        "### Estrutura de Controle"
      ],
      "metadata": {
        "id": "7szg0a9UQcLa"
      }
    },
    {
      "cell_type": "markdown",
      "source": [
        "- Loop for: estrutura de repetição.\n",
        "- Loop while: a estrutura será repetida enquanto a expressão for verdadeira (True), até chegar no critério de parada (que não pode faltar).\n",
        "- Condicional: uma condição é testada, caso o valor seja verdadeiro (True), um conjunto de ações são tomadas. Se for uma condicional composta, quando a condição for falsa (False), o programa executará uma ou várias instruções.\n",
        "  - if\n",
        "  - if-else\n",
        "  - if-elif-else"
      ],
      "metadata": {
        "id": "O6fkyFrnQzjR"
      }
    },
    {
      "cell_type": "code",
      "source": [
        "# Condicional: for\n",
        "\n",
        "# Imprime cada uma das letras da palavra Meteorologia.\n",
        "nome = 'Meteorologia'\n",
        "\n",
        "for letra in nome:\n",
        "  print(letra)"
      ],
      "metadata": {
        "id": "AfBPmNSUR9cK"
      },
      "execution_count": null,
      "outputs": []
    },
    {
      "cell_type": "code",
      "source": [
        "# Condicional: for\n",
        "\n",
        "#Imprime os valores de 1 a 9\n",
        "for numero in range(1, 16):\n",
        "  print(numero)"
      ],
      "metadata": {
        "id": "wt7hIc5LQgKM"
      },
      "execution_count": null,
      "outputs": []
    },
    {
      "cell_type": "code",
      "source": [
        "# Condicional: if-elif-else\n",
        "temperatura = 60\n",
        "\n",
        "if temperatura < 30:\n",
        "  print(\"Temperatura menor que 30 graus Celsius\")\n",
        "elif temperatura == 50:\n",
        "  print(\"Temperatura igual a 50 graus Celsius\")\n",
        "else:\n",
        "  print(\"Temperatura maior que 30 graus Celsius\")"
      ],
      "metadata": {
        "id": "wTUODV6hcDkj"
      },
      "execution_count": null,
      "outputs": []
    },
    {
      "cell_type": "code",
      "source": [
        "# Condicional: while\n",
        "\n",
        "#Imprime os valores de 1 a 9\n",
        "numero = 1\n",
        "\n",
        "while numero < 10:\n",
        "    print(numero)\n",
        "    numero = numero + 1  #numero += 1"
      ],
      "metadata": {
        "id": "Lv7GnNLdRqzu"
      },
      "execution_count": null,
      "outputs": []
    },
    {
      "cell_type": "code",
      "source": [
        "# Condicional: while\n",
        "\n",
        "# Enquanto o usuário não digitar “sim”, o loop será executado\n",
        "resposta = ''\n",
        "\n",
        "while resposta != 'sim':\n",
        "    resposta = input('Você quer passar na disciplina? ')"
      ],
      "metadata": {
        "id": "sRk_gNCgStTg"
      },
      "execution_count": null,
      "outputs": []
    },
    {
      "cell_type": "code",
      "source": [
        "# Condicional: if\n",
        "\n",
        "temperatura = 30\n",
        "\n",
        "if temperatura < 40:\n",
        "  print(\"Temperatura menor que 40 graus Celsius\")\n"
      ],
      "metadata": {
        "id": "Y7tEcfuNS9UK"
      },
      "execution_count": null,
      "outputs": []
    },
    {
      "cell_type": "code",
      "source": [
        "# Condicional: if-else\n",
        "\n",
        "temperatura = 45\n",
        "\n",
        "if temperatura < 40:\n",
        "  print(\"Temperatura menor que 40 graus Celsius\")\n",
        "else:\n",
        "  print(\"Temperatura maior que 40 graus Celsius\")"
      ],
      "metadata": {
        "id": "7eaP_-JMUvbP"
      },
      "execution_count": null,
      "outputs": []
    },
    {
      "cell_type": "markdown",
      "source": [
        "#### Estruturas lógicas\n",
        "- ***and*** (e);\n",
        "-  ***or*** (ou) ; e\n",
        "-  ***not*** (não)"
      ],
      "metadata": {
        "id": "K9MK5-YLWF6D"
      }
    },
    {
      "cell_type": "code",
      "source": [
        "# Exemplo 1 (and)\n",
        "\n",
        "umidade_relativa = 80\n",
        "temperatura = 20\n",
        "\n",
        "if umidade_relativa <= 30 and temperatura >= 40:\n",
        "  print(\"Condição perigosa\")\n",
        "else:\n",
        "  print(\"Condição favorável\")"
      ],
      "metadata": {
        "id": "dhZPz4cMcUi9"
      },
      "execution_count": null,
      "outputs": []
    },
    {
      "cell_type": "code",
      "source": [
        "# Exemplo 2 (or)\n",
        "\n",
        "umidade_relativa = 80\n",
        "temperatura = 45\n",
        "\n",
        "if umidade_relativa <= 30 or temperatura >= 40:\n",
        "  print(\"Condição perigosa\")\n",
        "else:\n",
        "  print(\"Condição favorável\")"
      ],
      "metadata": {
        "id": "YClhuS-WcYJr"
      },
      "execution_count": null,
      "outputs": []
    },
    {
      "cell_type": "code",
      "source": [
        "# Exemplo 3 (not)\n",
        "\n",
        "umidade_relativa = 80\n",
        "\n",
        "if not umidade_relativa <= 30:\n",
        "  print(\"Umidade relativa alta\")\n",
        "else:\n",
        "  print(\"Umidade relativa baixa\")"
      ],
      "metadata": {
        "id": "ARBEL3XddSxB"
      },
      "execution_count": null,
      "outputs": []
    },
    {
      "cell_type": "markdown",
      "source": [
        "### Como criar funções\n",
        "Definição: As funções são pequenos trechos de código que realizam tarefas específicas.\n",
        "Exemplo:\n",
        "\n",
        "\n",
        "```\n",
        "def nome_da_funcao(parametros_de_entrada):\n",
        "  bloco_da_funcao\n",
        "```\n",
        "\n",
        "Onde:\n",
        "  - nome_da_função: Sempre utilizar letras minúsculas, e se for nome composto, utilizar underline (“_”).\n",
        "  - parametros_de_entrada: São opcionais. Tendo mais de um, separar por vírgula.\n",
        "  - bloco_da_funcao: Onde o processamento da função ocorre. Neste bloco, pode ter ou não retorno da função.\n",
        "\n",
        "A palavra reservada para função é def.\n",
        "\n",
        "É interessante notar que dentro de uma função, pode-se chamar outra função\n"
      ],
      "metadata": {
        "id": "Wz-5AUV7bWzx"
      }
    },
    {
      "cell_type": "code",
      "source": [
        "# Definição da função.\n",
        "\n",
        "\n",
        "# Chamada de execução.\n"
      ],
      "metadata": {
        "id": "RLpES8pOcDVo"
      },
      "execution_count": null,
      "outputs": []
    },
    {
      "cell_type": "code",
      "source": [
        "#Função para transformar temperatura de Kelvin para Celsus\n",
        "def kelvin_para_celsius(tk):\n",
        "  return tk - 273.17"
      ],
      "metadata": {
        "id": "X0WJTirQclPF"
      },
      "execution_count": null,
      "outputs": []
    },
    {
      "cell_type": "code",
      "source": [
        "# Forma 1: Executando por meio do print.\n",
        "print(kelvin_para_celsius(300))"
      ],
      "metadata": {
        "id": "4-QWGt9VctbL"
      },
      "execution_count": null,
      "outputs": []
    },
    {
      "cell_type": "code",
      "source": [
        "# Forma 2: Atribuindo a função a uma variável (tc).\n",
        "tc = kelvin_para_celsius(300)\n",
        "print(tc)"
      ],
      "metadata": {
        "id": "6H1qc22LcyJX"
      },
      "execution_count": null,
      "outputs": []
    },
    {
      "cell_type": "markdown",
      "source": [
        "### Baixando dados climáticos do INMET"
      ],
      "metadata": {
        "id": "xEdqxBJhKOy9"
      }
    },
    {
      "cell_type": "code",
      "source": [
        "url = 'https://portal.inmet.gov.br/uploads/normais/Normal-Climatologica-TMAX.xlsx'\n",
        "filename = wget.download(url)\n",
        "filename"
      ],
      "metadata": {
        "id": "0Pw5WDkH3wqw"
      },
      "execution_count": null,
      "outputs": []
    },
    {
      "cell_type": "markdown",
      "source": [
        "### Organizando a tabela dos dados"
      ],
      "metadata": {
        "id": "dFRvUSwWKYn4"
      }
    },
    {
      "cell_type": "code",
      "source": [
        "file_path = \"Normal-Climatologica-TMAX.xlsx\"\n",
        "dados = pd.read_excel(file_path)\n",
        "# data = pd.read_excel(file_path, skiprows=1)\n",
        "dados.head()"
      ],
      "metadata": {
        "id": "K_JPdvZX57Dr"
      },
      "execution_count": null,
      "outputs": []
    },
    {
      "cell_type": "code",
      "source": [
        "file_path = \"Normal-Climatologica-TMAX.xlsx\"\n",
        "dados = pd.read_excel(file_path, skiprows=1)\n",
        "dados.columns = dados.iloc[0]  # Define a primeira linha como cabeçalho\n",
        "dados = dados[1:]\n",
        "dados.head()"
      ],
      "metadata": {
        "id": "ZhX-R4GW4MxN"
      },
      "execution_count": null,
      "outputs": []
    },
    {
      "cell_type": "code",
      "source": [
        "dados.columns"
      ],
      "metadata": {
        "id": "6-B198DAelg5"
      },
      "execution_count": null,
      "outputs": []
    },
    {
      "cell_type": "code",
      "source": [
        "df = dados.drop('Ano', axis=1)\n",
        "df.columns"
      ],
      "metadata": {
        "id": "7azpqqLjeqpM"
      },
      "execution_count": null,
      "outputs": []
    },
    {
      "cell_type": "code",
      "source": [
        "print(type(df))"
      ],
      "metadata": {
        "id": "MULXQFbfeaig"
      },
      "execution_count": null,
      "outputs": []
    },
    {
      "cell_type": "code",
      "source": [
        "df.shape #(linhas, colunas)"
      ],
      "metadata": {
        "id": "nm2mcHZqfEMf"
      },
      "execution_count": null,
      "outputs": []
    },
    {
      "cell_type": "code",
      "source": [
        "# Salvando o DataFrame 'df' em um arquivo CSV\n",
        "df.to_csv('df_data.csv', index=False)"
      ],
      "metadata": {
        "id": "IQiJu-PugpvK"
      },
      "execution_count": null,
      "outputs": []
    },
    {
      "cell_type": "markdown",
      "source": [
        "### Carregando os dados"
      ],
      "metadata": {
        "id": "CVhmQGAshcbY"
      }
    },
    {
      "cell_type": "code",
      "source": [
        "caminho_arquivo = 'df_data.csv'\n",
        "df = pd.read_csv(caminho_arquivo)"
      ],
      "metadata": {
        "id": "hXwZawFdhtuo"
      },
      "execution_count": null,
      "outputs": []
    },
    {
      "cell_type": "markdown",
      "source": [
        "###Importando bibliotecas/pacotes"
      ],
      "metadata": {
        "id": "WZI_zzIjhqDJ"
      }
    },
    {
      "cell_type": "code",
      "source": [
        "# Importando bibliotecas\n",
        "import pandas as pd\n",
        "import matplotlib.pyplot as plt\n",
        "import seaborn as sns"
      ],
      "metadata": {
        "id": "P3RCIigHhZNB"
      },
      "execution_count": null,
      "outputs": []
    },
    {
      "cell_type": "code",
      "source": [
        "# Convertendo colunas de temperatura para numérico\n",
        "for month in df.columns[3:]:\n",
        "      df[month] = pd.to_numeric(df[month], errors='coerce')\n",
        "\n",
        "\n"
      ],
      "metadata": {
        "id": "KG_qSUKZh-si"
      },
      "execution_count": null,
      "outputs": []
    },
    {
      "cell_type": "code",
      "source": [
        "# Removendo valores inválidos (-) e calculando a média anual\n",
        "df['Média Anual'] = df.iloc[:, 3:].mean(axis=1)\n"
      ],
      "metadata": {
        "id": "FyZAfuCoiDqe"
      },
      "execution_count": null,
      "outputs": []
    },
    {
      "cell_type": "code",
      "source": [
        "# Analisando estatísticas básicas\n",
        "print(\"\\nEstatísticas Básicas:\")\n",
        "print(df.describe())"
      ],
      "metadata": {
        "id": "uA5yLC0QiFn_"
      },
      "execution_count": null,
      "outputs": []
    },
    {
      "cell_type": "code",
      "source": [
        "# Plotando Temperatura média anual por estado\n"
      ],
      "metadata": {
        "id": "Pj38YOEriRo2"
      },
      "execution_count": null,
      "outputs": []
    },
    {
      "cell_type": "markdown",
      "source": [
        "#Manipulando dados de tabela"
      ],
      "metadata": {
        "id": "8sPvZ35smTrq"
      }
    },
    {
      "cell_type": "code",
      "source": [
        "df.columns"
      ],
      "metadata": {
        "id": "Xzh0bpb8ifWn"
      },
      "execution_count": null,
      "outputs": []
    },
    {
      "cell_type": "code",
      "source": [
        "df2 = df\n",
        "df2.columns = ['Cod', 'Estacao', 'UF', 'Janeiro', 'Fevereiro', 'Março',\n",
        "       'Abril', 'Maio', 'Junho', 'Julho', 'Agosto', 'Setembro', 'Outubro',\n",
        "       'Novembro', 'Dezembro', 'Média Anual']\n",
        "df2"
      ],
      "metadata": {
        "id": "bS3qAQkZkd5J"
      },
      "execution_count": null,
      "outputs": []
    },
    {
      "cell_type": "code",
      "source": [
        "# Renomeando colunas usando uma função lambda\n",
        "df2 = df.rename(columns=lambda x: x.replace(' ', '_'))  #"
      ],
      "metadata": {
        "id": "V7FUALUOkjMj"
      },
      "execution_count": null,
      "outputs": []
    },
    {
      "cell_type": "code",
      "source": [
        "df2.columns"
      ],
      "metadata": {
        "id": "W45yOWxCkPHQ"
      },
      "execution_count": null,
      "outputs": []
    },
    {
      "cell_type": "code",
      "source": [
        "# Transformando a tabela para formato longo\n",
        "\n",
        "\n",
        "# Visualizando o novo formato do dataframe\n"
      ],
      "metadata": {
        "id": "HHG7B3ZOjSaf"
      },
      "execution_count": null,
      "outputs": []
    },
    {
      "cell_type": "code",
      "source": [
        "# Distribuição de temperaturas por mês\n"
      ],
      "metadata": {
        "id": "ITPq03vOibfr"
      },
      "execution_count": null,
      "outputs": []
    },
    {
      "cell_type": "code",
      "source": [
        "#Gerando Gráfico Boxplot (Caixa)\n"
      ],
      "metadata": {
        "id": "8XQ7nWOsmhoC"
      },
      "execution_count": null,
      "outputs": []
    },
    {
      "cell_type": "markdown",
      "source": [
        "## Dados Vetoriais com GeoPandas e Dados Climáticos"
      ],
      "metadata": {
        "id": "2yYDE8S8d7O1"
      }
    },
    {
      "cell_type": "code",
      "source": [
        "#instalando pacotes\n",
        "!pip install geobr -q"
      ],
      "metadata": {
        "id": "S1YycDb4eIpL"
      },
      "execution_count": null,
      "outputs": []
    },
    {
      "cell_type": "code",
      "source": [
        "#Carregando pacotes\n",
        "import geopandas as gpd\n",
        "import pandas as pd\n",
        "import numpy as np\n",
        "from geobr import read_municipality\n",
        "import matplotlib.pyplot as plt\n"
      ],
      "metadata": {
        "id": "LR1Xf3LVeDx0"
      },
      "execution_count": null,
      "outputs": []
    },
    {
      "cell_type": "code",
      "source": [
        "# 1. Carregando dados geográficos dos municípios do Maranhão\n",
        "maranhao = read_municipality(code_muni='21', year=2020)\n"
      ],
      "metadata": {
        "id": "apkhz53Kd38q"
      },
      "execution_count": null,
      "outputs": []
    },
    {
      "cell_type": "code",
      "source": [
        "maranhao.plot()"
      ],
      "metadata": {
        "id": "8pCiGRWbeqdK"
      },
      "execution_count": null,
      "outputs": []
    },
    {
      "cell_type": "code",
      "source": [
        "maranhao"
      ],
      "metadata": {
        "id": "5S6GAuz9gJR9"
      },
      "execution_count": null,
      "outputs": []
    },
    {
      "cell_type": "code",
      "source": [
        "# 2. Simulando dados climáticos (precipitação mensal por município)\n",
        "\n",
        "np.random.seed(42)\n",
        "\n",
        "chuva_simulada = pd.DataFrame({\n",
        "    'code_muni': maranhao['code_muni'],\n",
        "    'precip_mm': np.random.uniform(80, 300, size=len(maranhao)).round(1)\n",
        "})\n",
        "\n",
        "print(chuva_simulada)"
      ],
      "metadata": {
        "id": "pLOE7tyqeh3J"
      },
      "execution_count": null,
      "outputs": []
    },
    {
      "cell_type": "code",
      "source": [
        "# Juntando os dados espaciais com os simulados (por coluna comum entre as tabelas)\n",
        "maranhao_clima = maranhao.merge(chuva_simulada, on=\"code_muni\")\n",
        "maranhao_clima"
      ],
      "metadata": {
        "id": "M9q6inDrgYej"
      },
      "execution_count": null,
      "outputs": []
    },
    {
      "cell_type": "code",
      "source": [
        "# Plotando o mapa\n",
        "fig, ax = plt.subplots(1, 1, figsize=(10, 10))\n",
        "\n",
        "maranhao_clima.plot(column='precip_mm', ax=ax, legend=True,\n",
        "                    cmap='viridis', edgecolor='gray')\n",
        "\n",
        "ax.set_title(\"Precipitação mensal simulada nos municípios do Maranhão\", fontsize=14)\n",
        "\n",
        "#ax.axis('off')\n",
        "\n",
        "plt.show()"
      ],
      "metadata": {
        "id": "vAUMhiiZgfNI"
      },
      "execution_count": null,
      "outputs": []
    },
    {
      "cell_type": "markdown",
      "source": [
        "###Referências:\n",
        "\n",
        "- Livro: Aplicações de Python em Geociências ([Santos et al., 2022](http://urlib.net/8JMKD3MGP3W34T/46RTMU5)).\n",
        "- Livro: Ciências de Dados: fundamentos e aplicações (Carvalho et al., 2024)."
      ],
      "metadata": {
        "id": "51yfDtIOEOzX"
      }
    }
  ]
}